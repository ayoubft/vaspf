{
 "cells": [
  {
   "cell_type": "code",
   "execution_count": 1,
   "id": "861ba3dc-ab32-4305-98f9-6048725d7f9c",
   "metadata": {},
   "outputs": [
    {
     "name": "stdout",
     "output_type": "stream",
     "text": [
      "zsh:fg:1: no job control in this shell.\n"
     ]
    }
   ],
   "source": [
    "!%%python3 vconv.py POSCAR-MonoAl_C7-def5_60.vasp"
   ]
  },
  {
   "cell_type": "code",
   "execution_count": null,
   "id": "e0d42930-e134-4919-adcb-77220c369b2d",
   "metadata": {},
   "outputs": [],
   "source": []
  }
 ],
 "metadata": {
  "kernelspec": {
   "display_name": "Python 3",
   "language": "python",
   "name": "python3"
  },
  "language_info": {
   "codemirror_mode": {
    "name": "ipython",
    "version": 3
   },
   "file_extension": ".py",
   "mimetype": "text/x-python",
   "name": "python",
   "nbconvert_exporter": "python",
   "pygments_lexer": "ipython3",
   "version": "3.9.2"
  }
 },
 "nbformat": 4,
 "nbformat_minor": 5
}
